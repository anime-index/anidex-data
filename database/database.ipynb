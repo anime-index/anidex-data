{
 "cells": [
  {
   "cell_type": "code",
   "execution_count": 3,
   "metadata": {},
   "outputs": [
    {
     "name": "stdout",
     "output_type": "stream",
     "text": [
      "[(5114, 'Fullmetal Alchemist: Brotherhood', 'TV', 'Finished Airing', 64, datetime.date(2009, 4, 5), datetime.date(2010, 7, 4), 9.14, 1808998)]\n"
     ]
    }
   ],
   "source": [
    "import mysql.connector\n",
    "\n",
    "with open('sql_password.txt') as f:\n",
    "    password = f.readline()\n",
    "\n",
    "cnx = mysql.connector.connect( # Hi ha el sevidor (Oracle) i la base de dades; ell ha connectat des de Oracle amb una altra llibreria de Oracle\n",
    "    host = 'localhost',\n",
    "    user = 'root',\n",
    "    password = password,\n",
    "    database = 'anime'\n",
    ")\n",
    "\n",
    "cursor = cnx.cursor()\n",
    "\n",
    "cursor.execute('select * from anime')\n",
    "\n",
    "records = cursor.fetchall()\n",
    "\n",
    "print(records)\n",
    "\n",
    "cnx.close()"
   ]
  },
  {
   "cell_type": "code",
   "execution_count": null,
   "metadata": {},
   "outputs": [],
   "source": []
  }
 ],
 "metadata": {
  "interpreter": {
   "hash": "773a361cf440c85d0f1b397b59417f04450dec92c13907e04b99215aad70a9fb"
  },
  "kernelspec": {
   "display_name": "Python 3.10.1 64-bit",
   "language": "python",
   "name": "python3"
  },
  "language_info": {
   "codemirror_mode": {
    "name": "ipython",
    "version": 3
   },
   "file_extension": ".py",
   "mimetype": "text/x-python",
   "name": "python",
   "nbconvert_exporter": "python",
   "pygments_lexer": "ipython3",
   "version": "3.10.1"
  },
  "orig_nbformat": 4
 },
 "nbformat": 4,
 "nbformat_minor": 2
}
