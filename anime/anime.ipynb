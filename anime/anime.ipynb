{
 "cells": [
  {
   "cell_type": "markdown",
   "metadata": {},
   "source": [
    "## Load the data"
   ]
  },
  {
   "cell_type": "code",
   "execution_count": 3,
   "metadata": {},
   "outputs": [
    {
     "data": {
      "text/html": [
       "<div>\n",
       "<style scoped>\n",
       "    .dataframe tbody tr th:only-of-type {\n",
       "        vertical-align: middle;\n",
       "    }\n",
       "\n",
       "    .dataframe tbody tr th {\n",
       "        vertical-align: top;\n",
       "    }\n",
       "\n",
       "    .dataframe thead th {\n",
       "        text-align: right;\n",
       "    }\n",
       "</style>\n",
       "<table border=\"1\" class=\"dataframe\">\n",
       "  <thead>\n",
       "    <tr style=\"text-align: right;\">\n",
       "      <th></th>\n",
       "      <th>mal_id</th>\n",
       "      <th>url</th>\n",
       "      <th>image_url</th>\n",
       "      <th>trailer_url</th>\n",
       "      <th>title</th>\n",
       "      <th>title_en</th>\n",
       "      <th>title_jp</th>\n",
       "      <th>title_synonyms</th>\n",
       "      <th>type</th>\n",
       "      <th>source</th>\n",
       "      <th>...</th>\n",
       "      <th>mal_popularity</th>\n",
       "      <th>mal_members</th>\n",
       "      <th>mal_favorites</th>\n",
       "      <th>related</th>\n",
       "      <th>producers</th>\n",
       "      <th>licensors</th>\n",
       "      <th>studios</th>\n",
       "      <th>genres</th>\n",
       "      <th>opening_themes</th>\n",
       "      <th>ending_themes</th>\n",
       "    </tr>\n",
       "  </thead>\n",
       "  <tbody>\n",
       "    <tr>\n",
       "      <th>0</th>\n",
       "      <td>1</td>\n",
       "      <td>https://myanimelist.net/anime/1/Cowboy_Bebop</td>\n",
       "      <td>https://cdn.myanimelist.net/images/anime/4/196...</td>\n",
       "      <td>https://www.youtube.com/embed/qig4KOK2R2g?enab...</td>\n",
       "      <td>Cowboy Bebop</td>\n",
       "      <td>Cowboy Bebop</td>\n",
       "      <td>カウボーイビバップ</td>\n",
       "      <td>[]</td>\n",
       "      <td>TV</td>\n",
       "      <td>Original</td>\n",
       "      <td>...</td>\n",
       "      <td>42</td>\n",
       "      <td>1345609</td>\n",
       "      <td>59329</td>\n",
       "      <td>{'Adaptation': [{'mal_id': 173, 'type': 'manga...</td>\n",
       "      <td>[{'mal_id': 23, 'type': 'anime', 'name': 'Band...</td>\n",
       "      <td>[{'mal_id': 102, 'type': 'anime', 'name': 'Fun...</td>\n",
       "      <td>[{'mal_id': 14, 'type': 'anime', 'name': 'Sunr...</td>\n",
       "      <td>[{'mal_id': 1, 'type': 'anime', 'name': 'Actio...</td>\n",
       "      <td>[\"Tank!\" by The Seatbelts (eps 1-25)]</td>\n",
       "      <td>[#1: \"The Real Folk Blues\" by The Seatbelts fe...</td>\n",
       "    </tr>\n",
       "  </tbody>\n",
       "</table>\n",
       "<p>1 rows × 34 columns</p>\n",
       "</div>"
      ],
      "text/plain": [
       "   mal_id                                           url  \\\n",
       "0       1  https://myanimelist.net/anime/1/Cowboy_Bebop   \n",
       "\n",
       "                                           image_url  \\\n",
       "0  https://cdn.myanimelist.net/images/anime/4/196...   \n",
       "\n",
       "                                         trailer_url         title  \\\n",
       "0  https://www.youtube.com/embed/qig4KOK2R2g?enab...  Cowboy Bebop   \n",
       "\n",
       "       title_en   title_jp title_synonyms type    source  ...  mal_popularity  \\\n",
       "0  Cowboy Bebop  カウボーイビバップ             []   TV  Original  ...              42   \n",
       "\n",
       "  mal_members  mal_favorites  \\\n",
       "0     1345609          59329   \n",
       "\n",
       "                                             related  \\\n",
       "0  {'Adaptation': [{'mal_id': 173, 'type': 'manga...   \n",
       "\n",
       "                                           producers  \\\n",
       "0  [{'mal_id': 23, 'type': 'anime', 'name': 'Band...   \n",
       "\n",
       "                                           licensors  \\\n",
       "0  [{'mal_id': 102, 'type': 'anime', 'name': 'Fun...   \n",
       "\n",
       "                                             studios  \\\n",
       "0  [{'mal_id': 14, 'type': 'anime', 'name': 'Sunr...   \n",
       "\n",
       "                                              genres  \\\n",
       "0  [{'mal_id': 1, 'type': 'anime', 'name': 'Actio...   \n",
       "\n",
       "                          opening_themes  \\\n",
       "0  [\"Tank!\" by The Seatbelts (eps 1-25)]   \n",
       "\n",
       "                                       ending_themes  \n",
       "0  [#1: \"The Real Folk Blues\" by The Seatbelts fe...  \n",
       "\n",
       "[1 rows x 34 columns]"
      ]
     },
     "execution_count": 3,
     "metadata": {},
     "output_type": "execute_result"
    }
   ],
   "source": [
    "import pandas as pd\n",
    "\n",
    "df = pd.read_json('data/anime.json')\n",
    "\n",
    "df.head(1)"
   ]
  },
  {
   "cell_type": "code",
   "execution_count": 10,
   "metadata": {},
   "outputs": [
    {
     "data": {
      "text/plain": [
       "(18986, 34)"
      ]
     },
     "execution_count": 10,
     "metadata": {},
     "output_type": "execute_result"
    }
   ],
   "source": [
    "df.shape # There are 18.986 animes and 34 columns (attributes)"
   ]
  },
  {
   "cell_type": "code",
   "execution_count": 11,
   "metadata": {},
   "outputs": [
    {
     "data": {
      "text/plain": [
       "Index(['mal_id', 'url', 'image_url', 'trailer_url', 'title', 'title_en',\n",
       "       'title_jp', 'title_synonyms', 'type', 'source', 'episodes', 'status',\n",
       "       'airing', 'aired_start', 'aired_end', 'premiered', 'broadcast',\n",
       "       'episode_duration', 'synopsis', 'background', 'mal_rating', 'mal_score',\n",
       "       'mal_reviewer', 'mal_rank', 'mal_popularity', 'mal_members',\n",
       "       'mal_favorites', 'related', 'producers', 'licensors', 'studios',\n",
       "       'genres', 'opening_themes', 'ending_themes'],\n",
       "      dtype='object')"
      ]
     },
     "execution_count": 11,
     "metadata": {},
     "output_type": "execute_result"
    }
   ],
   "source": [
    "# List attributes\n",
    "df.columns"
   ]
  },
  {
   "cell_type": "markdown",
   "metadata": {},
   "source": [
    "## List all genres"
   ]
  },
  {
   "cell_type": "code",
   "execution_count": 5,
   "metadata": {},
   "outputs": [
    {
     "name": "stdout",
     "output_type": "stream",
     "text": [
      "['Action', 'Adventure', 'Cars', 'Comedy', 'Dementia', 'Demons', 'Drama', 'Ecchi', 'Fantasy', 'Game', 'Harem', 'Hentai', 'Historical', 'Horror', 'Josei', 'Kids', 'Magic', 'Martial Arts', 'Mecha', 'Military', 'Music', 'Mystery', 'Parody', 'Police', 'Psychological', 'Romance', 'Samurai', 'School', 'Sci-Fi', 'Seinen', 'Shoujo', 'Shoujo Ai', 'Shounen', 'Shounen Ai', 'Slice of Life', 'Space', 'Sports', 'Super Power', 'Supernatural', 'Thriller', 'Vampire', 'Yaoi', 'Yuri']\n"
     ]
    }
   ],
   "source": [
    "genres = set()\n",
    "for _, row in df.iterrows():\n",
    "    for dic in row['genres']:\n",
    "        genres.add(dic['name'])\n",
    "\n",
    "genres = list(genres)\n",
    "\n",
    "print(sorted(genres))"
   ]
  },
  {
   "cell_type": "code",
   "execution_count": 6,
   "metadata": {},
   "outputs": [
    {
     "data": {
      "text/plain": [
       "0        [Action, Adventure, Comedy, Drama, Sci-Fi, Space]\n",
       "1                  [Action, Drama, Mystery, Sci-Fi, Space]\n",
       "2        [Action, Sci-Fi, Adventure, Comedy, Drama, Sho...\n",
       "3        [Action, Mystery, Police, Supernatural, Drama,...\n",
       "4              [Adventure, Fantasy, Shounen, Supernatural]\n",
       "                               ...                        \n",
       "18981                                               [Kids]\n",
       "18982                                               [Kids]\n",
       "18983                                               [Kids]\n",
       "18984                                               [Kids]\n",
       "18985                                               [Kids]\n",
       "Name: genres, Length: 18986, dtype: object"
      ]
     },
     "execution_count": 6,
     "metadata": {},
     "output_type": "execute_result"
    }
   ],
   "source": [
    "#Convert genres from dictionary to name only, still inside list\n",
    "df['genres'].apply(lambda x: list(genre['name'] for genre in x))"
   ]
  },
  {
   "cell_type": "code",
   "execution_count": 17,
   "metadata": {},
   "outputs": [
    {
     "data": {
      "text/html": [
       "<div>\n",
       "<style scoped>\n",
       "    .dataframe tbody tr th:only-of-type {\n",
       "        vertical-align: middle;\n",
       "    }\n",
       "\n",
       "    .dataframe tbody tr th {\n",
       "        vertical-align: top;\n",
       "    }\n",
       "\n",
       "    .dataframe thead th {\n",
       "        text-align: right;\n",
       "    }\n",
       "</style>\n",
       "<table border=\"1\" class=\"dataframe\">\n",
       "  <thead>\n",
       "    <tr style=\"text-align: right;\">\n",
       "      <th></th>\n",
       "      <th>title</th>\n",
       "      <th>type</th>\n",
       "    </tr>\n",
       "  </thead>\n",
       "  <tbody>\n",
       "    <tr>\n",
       "      <th>11279</th>\n",
       "      <td>Devilman: Crybaby</td>\n",
       "      <td>ONA</td>\n",
       "    </tr>\n",
       "    <tr>\n",
       "      <th>595</th>\n",
       "      <td>Hellsing Ultimate</td>\n",
       "      <td>OVA</td>\n",
       "    </tr>\n",
       "    <tr>\n",
       "      <th>166</th>\n",
       "      <td>FLCL</td>\n",
       "      <td>OVA</td>\n",
       "    </tr>\n",
       "    <tr>\n",
       "      <th>7936</th>\n",
       "      <td>Shingeki no Kyojin: Kuinaki Sentaku</td>\n",
       "      <td>OVA</td>\n",
       "    </tr>\n",
       "    <tr>\n",
       "      <th>11786</th>\n",
       "      <td>Net-juu no Susume</td>\n",
       "      <td>ONA</td>\n",
       "    </tr>\n",
       "    <tr>\n",
       "      <th>15781</th>\n",
       "      <td>Great Pretender</td>\n",
       "      <td>ONA</td>\n",
       "    </tr>\n",
       "    <tr>\n",
       "      <th>5450</th>\n",
       "      <td>Steins;Gate: Oukoubakko no Poriomania</td>\n",
       "      <td>Special</td>\n",
       "    </tr>\n",
       "    <tr>\n",
       "      <th>6665</th>\n",
       "      <td>Shingeki no Kyojin OVA</td>\n",
       "      <td>OVA</td>\n",
       "    </tr>\n",
       "  </tbody>\n",
       "</table>\n",
       "</div>"
      ],
      "text/plain": [
       "                                       title     type\n",
       "11279                      Devilman: Crybaby      ONA\n",
       "595                        Hellsing Ultimate      OVA\n",
       "166                                     FLCL      OVA\n",
       "7936     Shingeki no Kyojin: Kuinaki Sentaku      OVA\n",
       "11786                      Net-juu no Susume      ONA\n",
       "15781                        Great Pretender      ONA\n",
       "5450   Steins;Gate: Oukoubakko no Poriomania  Special\n",
       "6665                  Shingeki no Kyojin OVA      OVA"
      ]
     },
     "execution_count": 17,
     "metadata": {},
     "output_type": "execute_result"
    }
   ],
   "source": [
    "a = df.sort_values('mal_members', ascending=False).head(500)\n",
    "a[a.type.isin(['OVA', 'ONA', 'Special'])][['title', 'type']]"
   ]
  },
  {
   "cell_type": "markdown",
   "metadata": {},
   "source": [
    "## Score plot"
   ]
  },
  {
   "cell_type": "code",
   "execution_count": 6,
   "metadata": {},
   "outputs": [
    {
     "data": {
      "text/plain": [
       "count    12645.000000\n",
       "mean         6.488232\n",
       "std          0.894056\n",
       "min          1.860000\n",
       "25%          5.890000\n",
       "50%          6.500000\n",
       "75%          7.130000\n",
       "max          9.170000\n",
       "Name: mal_score, dtype: float64"
      ]
     },
     "execution_count": 6,
     "metadata": {},
     "output_type": "execute_result"
    },
    {
     "data": {
      "image/png": "[encoded data removed]",
      "text/plain": [
       "<Figure size 1152x648 with 1 Axes>"
      ]
     },
     "metadata": {
      "needs_background": "light"
     },
     "output_type": "display_data"
    }
   ],
   "source": [
    "import matplotlib.pyplot as plt\n",
    "import seaborn as sns\n",
    "\n",
    "plt.figure(figsize=(16,9))\n",
    "sns.histplot(df, x='mal_score')\n",
    "\n",
    "df.mal_score.describe()"
   ]
  },
  {
   "cell_type": "code",
   "execution_count": null,
   "metadata": {},
   "outputs": [],
   "source": []
  }
 ],
 "metadata": {
  "interpreter": {
   "hash": "ad2117d8da04c720903da65ba8862d63b2fb82849cd17efbeca69c80f28b43db"
  },
  "kernelspec": {
   "display_name": "Python 3.10.1 64-bit",
   "language": "python",
   "name": "python3"
  },
  "language_info": {
   "codemirror_mode": {
    "name": "ipython",
    "version": 3
   },
   "file_extension": ".py",
   "mimetype": "text/x-python",
   "name": "python",
   "nbconvert_exporter": "python",
   "pygments_lexer": "ipython3",
   "version": "3.10.1"
  },
  "orig_nbformat": 4
 },
 "nbformat": 4,
 "nbformat_minor": 2
}
