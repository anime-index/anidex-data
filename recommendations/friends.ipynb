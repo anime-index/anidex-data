{
 "cells": [
  {
   "cell_type": "code",
   "execution_count": 1,
   "metadata": {},
   "outputs": [
    {
     "data": {
      "text/html": [
       "<div>\n",
       "<style scoped>\n",
       "    .dataframe tbody tr th:only-of-type {\n",
       "        vertical-align: middle;\n",
       "    }\n",
       "\n",
       "    .dataframe tbody tr th {\n",
       "        vertical-align: top;\n",
       "    }\n",
       "\n",
       "    .dataframe thead th {\n",
       "        text-align: right;\n",
       "    }\n",
       "</style>\n",
       "<table border=\"1\" class=\"dataframe\">\n",
       "  <thead>\n",
       "    <tr style=\"text-align: right;\">\n",
       "      <th></th>\n",
       "      <th>userA</th>\n",
       "      <th>userB</th>\n",
       "      <th>friends</th>\n",
       "      <th>friendship_date</th>\n",
       "    </tr>\n",
       "  </thead>\n",
       "  <tbody>\n",
       "    <tr>\n",
       "      <th>678993</th>\n",
       "      <td>darktypetrainer</td>\n",
       "      <td>andreu_vall</td>\n",
       "      <td>1</td>\n",
       "      <td>2022-02-15 15:14:00</td>\n",
       "    </tr>\n",
       "    <tr>\n",
       "      <th>1085492</th>\n",
       "      <td>lonsao</td>\n",
       "      <td>andreu_vall</td>\n",
       "      <td>1</td>\n",
       "      <td>2018-04-22 16:33:00</td>\n",
       "    </tr>\n",
       "    <tr>\n",
       "      <th>1354429</th>\n",
       "      <td>yisus_of_hentai</td>\n",
       "      <td>andreu_vall</td>\n",
       "      <td>1</td>\n",
       "      <td>2018-09-26 04:26:00</td>\n",
       "    </tr>\n",
       "    <tr>\n",
       "      <th>2397820</th>\n",
       "      <td>andreu_vall</td>\n",
       "      <td>darktypetrainer</td>\n",
       "      <td>1</td>\n",
       "      <td>2022-02-15 07:03:00</td>\n",
       "    </tr>\n",
       "    <tr>\n",
       "      <th>2417098</th>\n",
       "      <td>andreu_vall</td>\n",
       "      <td>yisus_of_hentai</td>\n",
       "      <td>1</td>\n",
       "      <td>2018-09-25 02:07:00</td>\n",
       "    </tr>\n",
       "    <tr>\n",
       "      <th>4545275</th>\n",
       "      <td>andreu_vall</td>\n",
       "      <td>lonsao</td>\n",
       "      <td>1</td>\n",
       "      <td>2018-04-22 07:24:00</td>\n",
       "    </tr>\n",
       "  </tbody>\n",
       "</table>\n",
       "</div>"
      ],
      "text/plain": [
       "                   userA            userB  friends      friendship_date\n",
       "678993   darktypetrainer      andreu_vall        1  2022-02-15 15:14:00\n",
       "1085492           lonsao      andreu_vall        1  2018-04-22 16:33:00\n",
       "1354429  yisus_of_hentai      andreu_vall        1  2018-09-26 04:26:00\n",
       "2397820      andreu_vall  darktypetrainer        1  2022-02-15 07:03:00\n",
       "2417098      andreu_vall  yisus_of_hentai        1  2018-09-25 02:07:00\n",
       "4545275      andreu_vall           lonsao        1  2018-04-22 07:24:00"
      ]
     },
     "execution_count": 1,
     "metadata": {},
     "output_type": "execute_result"
    }
   ],
   "source": [
    "import pandas as pd\n",
    "\n",
    "friends = pd.read_csv('data/user_user.csv', sep='\\t')\n",
    "\n",
    "friends[(friends.userA=='andreu_vall') | (friends.userB=='andreu_vall')]"
   ]
  },
  {
   "cell_type": "code",
   "execution_count": null,
   "metadata": {},
   "outputs": [],
   "source": []
  }
 ],
 "metadata": {
  "interpreter": {
   "hash": "773a361cf440c85d0f1b397b59417f04450dec92c13907e04b99215aad70a9fb"
  },
  "kernelspec": {
   "display_name": "Python 3.10.1 64-bit",
   "language": "python",
   "name": "python3"
  },
  "language_info": {
   "codemirror_mode": {
    "name": "ipython",
    "version": 3
   },
   "file_extension": ".py",
   "mimetype": "text/x-python",
   "name": "python",
   "nbconvert_exporter": "python",
   "pygments_lexer": "ipython3",
   "version": "3.10.1"
  },
  "orig_nbformat": 4
 },
 "nbformat": 4,
 "nbformat_minor": 2
}
