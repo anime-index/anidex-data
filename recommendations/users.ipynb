{
 "cells": [
  {
   "cell_type": "code",
   "execution_count": 7,
   "metadata": {},
   "outputs": [
    {
     "data": {
      "text/html": [
       "<div>\n",
       "<style scoped>\n",
       "    .dataframe tbody tr th:only-of-type {\n",
       "        vertical-align: middle;\n",
       "    }\n",
       "\n",
       "    .dataframe tbody tr th {\n",
       "        vertical-align: top;\n",
       "    }\n",
       "\n",
       "    .dataframe thead th {\n",
       "        text-align: right;\n",
       "    }\n",
       "</style>\n",
       "<table border=\"1\" class=\"dataframe\">\n",
       "  <thead>\n",
       "    <tr style=\"text-align: right;\">\n",
       "      <th></th>\n",
       "      <th>user_id</th>\n",
       "      <th>user_url</th>\n",
       "      <th>last_online_date</th>\n",
       "      <th>num_watching</th>\n",
       "      <th>num_completed</th>\n",
       "      <th>num_on_hold</th>\n",
       "      <th>num_dropped</th>\n",
       "      <th>num_plan_to_watch</th>\n",
       "      <th>num_days</th>\n",
       "      <th>mean_score</th>\n",
       "      <th>clubs</th>\n",
       "    </tr>\n",
       "  </thead>\n",
       "  <tbody>\n",
       "    <tr>\n",
       "      <th>207349</th>\n",
       "      <td>darktypetrainer</td>\n",
       "      <td>https://myanimelist.net/profile/DarkTypeTrainer</td>\n",
       "      <td>2022-03-13 19:05:13</td>\n",
       "      <td>0</td>\n",
       "      <td>89</td>\n",
       "      <td>0</td>\n",
       "      <td>2</td>\n",
       "      <td>0</td>\n",
       "      <td>31.4</td>\n",
       "      <td>7.33</td>\n",
       "      <td>NaN</td>\n",
       "    </tr>\n",
       "    <tr>\n",
       "      <th>755435</th>\n",
       "      <td>andreu_vall</td>\n",
       "      <td>https://myanimelist.net/profile/andreu_vall</td>\n",
       "      <td>2022-02-26 18:50:00</td>\n",
       "      <td>6</td>\n",
       "      <td>170</td>\n",
       "      <td>8</td>\n",
       "      <td>16</td>\n",
       "      <td>78</td>\n",
       "      <td>103.3</td>\n",
       "      <td>8.05</td>\n",
       "      <td>67199</td>\n",
       "    </tr>\n",
       "    <tr>\n",
       "      <th>893966</th>\n",
       "      <td>yisus_of_hentai</td>\n",
       "      <td>https://myanimelist.net/profile/Yisus_of_Hentai</td>\n",
       "      <td>2022-02-23 22:54:14</td>\n",
       "      <td>10</td>\n",
       "      <td>422</td>\n",
       "      <td>5</td>\n",
       "      <td>49</td>\n",
       "      <td>59</td>\n",
       "      <td>125.9</td>\n",
       "      <td>6.74</td>\n",
       "      <td>NaN</td>\n",
       "    </tr>\n",
       "  </tbody>\n",
       "</table>\n",
       "</div>"
      ],
      "text/plain": [
       "                user_id                                         user_url  \\\n",
       "207349  darktypetrainer  https://myanimelist.net/profile/DarkTypeTrainer   \n",
       "755435      andreu_vall      https://myanimelist.net/profile/andreu_vall   \n",
       "893966  yisus_of_hentai  https://myanimelist.net/profile/Yisus_of_Hentai   \n",
       "\n",
       "           last_online_date  num_watching  num_completed  num_on_hold  \\\n",
       "207349  2022-03-13 19:05:13             0             89            0   \n",
       "755435  2022-02-26 18:50:00             6            170            8   \n",
       "893966  2022-02-23 22:54:14            10            422            5   \n",
       "\n",
       "        num_dropped  num_plan_to_watch  num_days  mean_score  clubs  \n",
       "207349            2                  0      31.4        7.33    NaN  \n",
       "755435           16                 78     103.3        8.05  67199  \n",
       "893966           49                 59     125.9        6.74    NaN  "
      ]
     },
     "execution_count": 7,
     "metadata": {},
     "output_type": "execute_result"
    }
   ],
   "source": [
    "import pandas as pd\n",
    "\n",
    "users = pd.read_csv('data/user.csv', sep='\\t')\n",
    "\n",
    "users[users.user_id.isin(['andreu_vall', 'yisus_of_hentai', 'darktypetrainer'])]"
   ]
  },
  {
   "cell_type": "code",
   "execution_count": null,
   "metadata": {},
   "outputs": [],
   "source": []
  }
 ],
 "metadata": {
  "interpreter": {
   "hash": "773a361cf440c85d0f1b397b59417f04450dec92c13907e04b99215aad70a9fb"
  },
  "kernelspec": {
   "display_name": "Python 3.10.1 64-bit",
   "language": "python",
   "name": "python3"
  },
  "language_info": {
   "codemirror_mode": {
    "name": "ipython",
    "version": 3
   },
   "file_extension": ".py",
   "mimetype": "text/x-python",
   "name": "python",
   "nbconvert_exporter": "python",
   "pygments_lexer": "ipython3",
   "version": "3.10.1"
  },
  "orig_nbformat": 4
 },
 "nbformat": 4,
 "nbformat_minor": 2
}
