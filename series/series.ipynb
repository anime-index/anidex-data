{
 "cells": [
  {
   "cell_type": "code",
   "execution_count": 1,
   "metadata": {},
   "outputs": [],
   "source": [
    "import pandas as pd\n",
    "\n",
    "anime = pd.read_json('data/anime.json')"
   ]
  },
  {
   "cell_type": "code",
   "execution_count": 2,
   "metadata": {},
   "outputs": [],
   "source": [
    "from collections import defaultdict\n",
    "\n",
    "sequels_dic = defaultdict(set)\n",
    "sequels_list = []\n",
    "\n",
    "for _, row in anime.iterrows():\n",
    "    for relation_type, list_of_dics in row['related'].items():\n",
    "        anime1 = row['mal_id']\n",
    "        for dic in list_of_dics:\n",
    "            if dic['type'] == 'anime':\n",
    "                anime2 = dic['mal_id']\n",
    "                if relation_type == 'Sequel' and anime2 not in sequels_dic[anime1]:\n",
    "                    sequels_dic[anime1].add(anime2)\n",
    "                    sequels_list.append((anime1, anime2))\n",
    "                if relation_type == 'Prequel' and anime1 not in sequels_dic[anime1]:\n",
    "                    sequels_dic[anime2].add(anime1)\n",
    "                    sequels_list.append((anime2, anime1))"
   ]
  },
  {
   "cell_type": "code",
   "execution_count": 3,
   "metadata": {},
   "outputs": [],
   "source": [
    "import networkx as nx\n",
    "\n",
    "G = nx.Graph()\n",
    "G.add_nodes_from(anime.mal_id)\n",
    "G.add_edges_from(sequels_list)\n",
    "components = list(nx.connected_components(G))"
   ]
  },
  {
   "cell_type": "code",
   "execution_count": 4,
   "metadata": {},
   "outputs": [],
   "source": [
    "class Series:\n",
    "    def __init__(self, comp):\n",
    "        self.components = comp\n",
    "        self.animes = anime.loc[anime.mal_id.isin(comp)]\n",
    "        self.max = self.animes.mal_members.argmax()\n",
    "\n",
    "        self.title = self.animes.iloc[self.max].title\n",
    "        self.popularity = self.animes.iloc[self.max].mal_members\n",
    "        self.score = (self.animes.mal_score * self.animes.mal_members).sum() / self.animes.mal_members.sum()\n",
    "        self.image_url = self.animes.iloc[self.max].image_url\n",
    "        self.episodes = self.animes.episodes.sum()\n",
    "        self.seasons = len(self.animes)\n",
    "        self.synopsis = self.animes.iloc[self.max].synopsis\n",
    "        self.date = self.animes.iloc[self.max].aired_start\n",
    "        self.genres = self.animes.iloc[self.max].genres\n",
    "    \n",
    "    def __str__(self):\n",
    "        return f'Title: {self.title}, popularity: {self.popularity}, score: {self.score}'\n",
    "    \n",
    "    def to_dict(self, series_id):\n",
    "        return {'series_id': series_id, 'title': self.title, 'popularity': self.popularity, 'score': self.score, 'image_url': self.image_url,\n",
    "                'episodes': self.episodes, 'seasons': self.seasons, 'synopsis': self.synopsis, 'date': self.date, 'genres': self.genres}"
   ]
  },
  {
   "cell_type": "code",
   "execution_count": 5,
   "metadata": {},
   "outputs": [
    {
     "name": "stderr",
     "output_type": "stream",
     "text": [
      "C:\\Users\\ANDREU~1\\AppData\\Local\\Temp/ipykernel_14428/3029020842.py:9: RuntimeWarning: invalid value encountered in double_scalars\n",
      "  self.score = (self.animes.mal_score * self.animes.mal_members).sum() / self.animes.mal_members.sum()\n"
     ]
    }
   ],
   "source": [
    "series_list = [Series(comp) for comp in components]"
   ]
  },
  {
   "cell_type": "code",
   "execution_count": 6,
   "metadata": {},
   "outputs": [],
   "source": [
    "series_list.sort(key=lambda x: -x.popularity)"
   ]
  },
  {
   "cell_type": "code",
   "execution_count": 7,
   "metadata": {},
   "outputs": [],
   "source": [
    "dics = [series_list[i].to_dict(i) for i in range(len(series_list))]"
   ]
  },
  {
   "cell_type": "code",
   "execution_count": 8,
   "metadata": {},
   "outputs": [],
   "source": [
    "g = pd.DataFrame(dics)\n",
    "g.to_json('series.json', indent=4, orient='records')"
   ]
  },
  {
   "cell_type": "code",
   "execution_count": null,
   "metadata": {},
   "outputs": [],
   "source": []
  }
 ],
 "metadata": {
  "interpreter": {
   "hash": "ad2117d8da04c720903da65ba8862d63b2fb82849cd17efbeca69c80f28b43db"
  },
  "kernelspec": {
   "display_name": "Python 3.10.1 64-bit",
   "language": "python",
   "name": "python3"
  },
  "language_info": {
   "codemirror_mode": {
    "name": "ipython",
    "version": 3
   },
   "file_extension": ".py",
   "mimetype": "text/x-python",
   "name": "python",
   "nbconvert_exporter": "python",
   "pygments_lexer": "ipython3",
   "version": "3.10.1"
  },
  "orig_nbformat": 4
 },
 "nbformat": 4,
 "nbformat_minor": 2
}
